{
 "cells": [
  {
   "cell_type": "code",
   "execution_count": 16,
   "metadata": {},
   "outputs": [],
   "source": [
    "# task1: apply noise\n",
    "# task2: transform to gate basis\n",
    "# task3: implement quantum fourier transform for adding two numbers\n",
    "# task4:\n",
    "#  - implement a quantum circuit that adds two numbers\n",
    "#  - build a function that transforms a general quantum circuit to the gate basis\n",
    "#  - apply noise\n",
    "#  - use different noise models and compare the results\n",
    "\n",
    "# gate basis: {cx, id, rz, sx, x}\n",
    "# cnot, identity, z-rotation, sqrt-x, x"
   ]
  },
  {
   "cell_type": "code",
   "execution_count": 17,
   "metadata": {},
   "outputs": [],
   "source": [
    "from qiskit import QuantumCircuit, QuantumRegister, ClassicalRegister\n",
    "import numpy as np\n",
    "from qiskit.circuit.library import CU1Gate, XGate, YGate, ZGate\n",
    "from qiskit_aer import AerSimulator\n",
    "from qiskit.visualization import plot_distribution\n",
    "from qiskit.compiler import transpile\n",
    "import numpy as np\n",
    "import random\n",
    "from qiskit.quantum_info import DensityMatrix, Statevector\n",
    "import numpy as np\n",
    "from itertools import product"
   ]
  },
  {
   "cell_type": "code",
   "execution_count": 18,
   "metadata": {},
   "outputs": [],
   "source": [
    "pauli_matrices = {\n",
    "    \"I\": np.array([[1, 0], [0, 1]]),\n",
    "    \"X\": np.array([[0, 1], [1, 0]]),\n",
    "    \"Y\": np.array([[0, -1j], [1j, 0]]),\n",
    "    \"Z\": np.array([[1, 0], [0, -1]]),\n",
    "}"
   ]
  },
  {
   "cell_type": "code",
   "execution_count": 19,
   "metadata": {},
   "outputs": [],
   "source": [
    "def change_basis(qc, simulator, basis_gates):\n",
    "    return transpile(qc, simulator, basis_gates=basis_gates, optimization_level=3)"
   ]
  },
  {
   "cell_type": "code",
   "execution_count": 20,
   "metadata": {},
   "outputs": [],
   "source": [
    "def noise_model(qc, alpha, beta, noise_level):\n",
    "    # alpha: Probability of having a random Pauli operator acting on the qubit after a one-qubit gate\n",
    "    # beta: Probability of having a random Pauli operator acting on the qubit after a two-qubit gate\n",
    "    # qc = qc.decompose()\n",
    "    paulis = [XGate(), YGate(), ZGate()]\n",
    "    noisy_qc = QuantumCircuit(*qc.qregs, *qc.cregs)\n",
    "\n",
    "    # randomly choose a pauli operator to apply after each gate\n",
    "    alpha_index = np.random.randint(0, len(paulis), size=noise_level)\n",
    "    beta_index = np.random.randint(0, len(paulis), size=noise_level)\n",
    "\n",
    "    alpha_prob = np.random.rand()\n",
    "    beta_prob = np.random.rand()\n",
    "\n",
    "    # check the number of 1 and 2 qubit gates\n",
    "    q1_indices = []\n",
    "    q1_qubits = []\n",
    "    q2_indices = []\n",
    "    q2_qubits = []\n",
    "    for i, (instr, qargs, _) in enumerate(qc.data):\n",
    "        if instr.name == \"measure\":\n",
    "            break\n",
    "        if instr.num_qubits == 1:\n",
    "            # append the index of the gate to the list and which qubit it acts on\n",
    "            q1_indices.append(i)\n",
    "            q1_qubits.append([qargs[0]])\n",
    "        if instr.num_qubits == 2:\n",
    "            q2_indices.append(i)\n",
    "            q2_qubits.append([qargs[np.random.randint(0, 2)]])\n",
    "\n",
    "    # # apply noise to the circuit\n",
    "    # choose a random index from the list of 1 and 2 qubit gates\n",
    "    chosen_1q_gate = [random.choice(q1_indices) for _ in range(noise_level)]\n",
    "    chosen_2q_gate = [random.choice(q2_indices) for _ in range(noise_level)]\n",
    "\n",
    "    alpha_counter = 0\n",
    "    beta_counter = 0\n",
    "    for i, (instr, qreg, creg) in enumerate(qc.data):\n",
    "        noisy_qc.append(instr, qreg, creg)\n",
    "        if i in chosen_1q_gate and alpha_prob < alpha:\n",
    "            noisy_qc.append(\n",
    "                paulis[alpha_index[alpha_counter]], q1_qubits[q1_indices.index(i)]\n",
    "            )\n",
    "            alpha_counter += 1\n",
    "        if i in chosen_2q_gate and beta_prob < beta:\n",
    "            noisy_qc.append(\n",
    "                paulis[beta_index[beta_counter]], q2_qubits[q2_indices.index(i)]\n",
    "            )\n",
    "            beta_counter += 1\n",
    "\n",
    "    return noisy_qc"
   ]
  },
  {
   "cell_type": "code",
   "execution_count": 21,
   "metadata": {},
   "outputs": [],
   "source": [
    "def qft(na, nb):\n",
    "    qc = QuantumCircuit(na)\n",
    "    curr = -1\n",
    "    for _ in range(nb):\n",
    "        l = 2\n",
    "        qc.h(curr)\n",
    "        for j in range(curr - 1, -na - 1, -1):\n",
    "            control = j\n",
    "            target = curr\n",
    "            qc.append(CU1Gate(np.pi / 2 ** (l - 1)), [control, target])\n",
    "            l += 1\n",
    "        curr -= 1\n",
    "    qc.h(curr)\n",
    "    for i in range(na // 2):\n",
    "        qc.swap(i, na - 1 - i)\n",
    "    return qc.to_gate()"
   ]
  },
  {
   "cell_type": "code",
   "execution_count": 22,
   "metadata": {},
   "outputs": [],
   "source": [
    "def adder(na, nb):\n",
    "    curr = -na\n",
    "    qc = QuantumCircuit(na + nb)\n",
    "    for i in range(na):\n",
    "        if i == 0:\n",
    "            l = 2\n",
    "            for j in range(nb):\n",
    "                control = j\n",
    "                target = curr\n",
    "                qc.append(CU1Gate(np.pi / 2 ** (l - 1)), [control, target])\n",
    "                l += 1\n",
    "        else:\n",
    "            l = 1\n",
    "            control = i - 1\n",
    "            for j in range(nb - i + 1):\n",
    "                target = curr\n",
    "                qc.append(CU1Gate(np.pi / 2 ** (l - 1)), [control, target])\n",
    "                l += 1\n",
    "                control += 1\n",
    "        curr += 1\n",
    "    return qc.to_gate()"
   ]
  },
  {
   "cell_type": "code",
   "execution_count": 23,
   "metadata": {},
   "outputs": [],
   "source": [
    "def QFT_adder(a: str, b: str, measure=False):\n",
    "    n = max(len(a), len(b))\n",
    "    # pad a and b with zeros\n",
    "    a = a.zfill(n)\n",
    "    b = b.zfill(n)\n",
    "    na = n + 1\n",
    "    nb = n\n",
    "    aqreg = QuantumRegister(na)\n",
    "    bqreg = QuantumRegister(nb)\n",
    "    areg = ClassicalRegister(na)\n",
    "    qc = QuantumCircuit(bqreg, aqreg, areg)\n",
    "\n",
    "    # initialize a and b\n",
    "    for i in range(na - 1):\n",
    "        if a[i] == \"1\":\n",
    "            qc.x(aqreg[na - i - 2])\n",
    "\n",
    "    for i in range(nb):\n",
    "        if b[i] == \"1\":\n",
    "            qc.x(bqreg[i])\n",
    "\n",
    "    qc.append(qft(na, nb), aqreg)\n",
    "    qc.barrier()\n",
    "\n",
    "    qc.append(adder(na, nb), [*bqreg, *aqreg])\n",
    "\n",
    "    qc.append(qft(na, nb).inverse(), aqreg)\n",
    "    qc.barrier()\n",
    "\n",
    "    if measure:\n",
    "        qc.measure(aqreg, areg)\n",
    "\n",
    "    return qc, aqreg, areg"
   ]
  },
  {
   "cell_type": "code",
   "execution_count": 24,
   "metadata": {},
   "outputs": [],
   "source": [
    "a = \"001\"\n",
    "b = \"111\"\n",
    "qc, aqreg, areg = QFT_adder(a, b, measure=True)\n",
    "# qc.decompose().draw(output=\"mpl\", fold=-1)"
   ]
  },
  {
   "cell_type": "code",
   "execution_count": 25,
   "metadata": {},
   "outputs": [],
   "source": [
    "qc_transpiled = change_basis(qc, AerSimulator(), [\"cx\", \"id\", \"rz\", \"sx\", \"x\"])"
   ]
  },
  {
   "cell_type": "code",
   "execution_count": 26,
   "metadata": {},
   "outputs": [
    {
     "name": "stdout",
     "output_type": "stream",
     "text": [
      "the result of adding 1 and 7 is 8\n"
     ]
    },
    {
     "data": {
      "image/png": "[encoded data removed]",
      "text/plain": [
       "<Figure size 700x500 with 1 Axes>"
      ]
     },
     "execution_count": 26,
     "metadata": {},
     "output_type": "execute_result"
    }
   ],
   "source": [
    "job = AerSimulator().run(qc_transpiled, shots=1024)\n",
    "counts = job.result().get_counts(qc_transpiled)\n",
    "# highest probability state\n",
    "result = int(max(counts, key=counts.get), 2)\n",
    "print(f\"the result of adding {int(a,2)} and {int(b,2)} is {result}\")\n",
    "plot_distribution(counts)"
   ]
  },
  {
   "cell_type": "code",
   "execution_count": 27,
   "metadata": {},
   "outputs": [],
   "source": [
    "# noisy_qc = noise_model(qc.decompose(), 1, 1, noise_level=10)\n",
    "noisy_qc = noise_model(qc_transpiled, 0.5, 0.5, noise_level=10)\n",
    "# noisy_qc.draw(output=\"mpl\")"
   ]
  },
  {
   "cell_type": "code",
   "execution_count": 28,
   "metadata": {},
   "outputs": [
    {
     "name": "stdout",
     "output_type": "stream",
     "text": [
      "the result of adding 1 and 7 is 9\n"
     ]
    },
    {
     "data": {
      "image/png": "[encoded data removed]",
      "text/plain": [
       "<Figure size 700x500 with 1 Axes>"
      ]
     },
     "execution_count": 28,
     "metadata": {},
     "output_type": "execute_result"
    }
   ],
   "source": [
    "job = AerSimulator().run(noisy_qc, shots=1024)\n",
    "counts = job.result().get_counts(noisy_qc)\n",
    "# highest probability state\n",
    "result = int(max(counts, key=counts.get), 2)\n",
    "print(f\"the result of adding {int(a,2)} and {int(b,2)} is {result}\")\n",
    "plot_distribution(counts)"
   ]
  },
  {
   "cell_type": "markdown",
   "metadata": {},
   "source": [
    "### Pauli Twirling - Error Suppression\n"
   ]
  },
  {
   "cell_type": "code",
   "execution_count": 29,
   "metadata": {},
   "outputs": [],
   "source": [
    "# apply pauli twirling\n",
    "# 1. apply random paulis to the adder circuit\n",
    "# 2. apply noise model\n",
    "# 3. apply random paulis to the noisy circuit\n",
    "# 4. compute the average result\n",
    "\n",
    "\n",
    "def pauli_twirling(qc, aqreg, areg, alpha, beta, noise_level, twirling_level):\n",
    "    n = qc.num_qubits\n",
    "    result = 0\n",
    "    paulis = [XGate(), YGate(), ZGate()]\n",
    "    for _ in range(twirling_level):\n",
    "        p = np.random.randint(0, len(paulis), n)\n",
    "        # step 1\n",
    "        for i in range(n):\n",
    "            qc.append(paulis[p[i]], [i])\n",
    "        # step 2\n",
    "        qc = noise_model(qc, alpha, beta, noise_level)\n",
    "        # step 3\n",
    "        for i in range(n):\n",
    "            qc.append(paulis[p[i]], [i])\n",
    "        # compute the result\n",
    "        qc.measure(aqreg, areg)\n",
    "        job = AerSimulator().run(qc, shots=1024)\n",
    "        counts = job.result().get_counts(qc)\n",
    "        result += int(max(counts, key=counts.get), 2)\n",
    "    return result / twirling_level"
   ]
  },
  {
   "cell_type": "code",
   "execution_count": 30,
   "metadata": {},
   "outputs": [
    {
     "name": "stdout",
     "output_type": "stream",
     "text": [
      "the approximated result of adding 1 and 7 after applying pauli twirling is 7.88\n"
     ]
    }
   ],
   "source": [
    "a = \"001\"\n",
    "b = \"111\"\n",
    "alpha = 0.5\n",
    "beta = 0.5\n",
    "noise_level = 3\n",
    "twirling_level = 50\n",
    "qc, aqreg, areg = QFT_adder(a, b)\n",
    "qc_transpiled = change_basis(qc, AerSimulator(), [\"cx\", \"id\", \"rz\", \"sx\", \"x\"])\n",
    "approximated_result = pauli_twirling(qc_transpiled, aqreg, areg, alpha, beta, noise_level, twirling_level)\n",
    "print(f\"the approximated result of adding {int(a,2)} and {int(b,2)} after applying pauli twirling is {approximated_result}\")"
   ]
  }
 ],
 "metadata": {
  "kernelspec": {
   "display_name": "Python 3",
   "language": "python",
   "name": "python3"
  },
  "language_info": {
   "codemirror_mode": {
    "name": "ipython",
    "version": 3
   },
   "file_extension": ".py",
   "mimetype": "text/x-python",
   "name": "python",
   "nbconvert_exporter": "python",
   "pygments_lexer": "ipython3",
   "version": "3.10.12"
  }
 },
 "nbformat": 4,
 "nbformat_minor": 2
}
